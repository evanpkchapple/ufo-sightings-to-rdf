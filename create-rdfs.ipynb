{
 "cells": [
  {
   "cell_type": "code",
   "execution_count": 21,
   "id": "1f47f5f6",
   "metadata": {},
   "outputs": [],
   "source": [
    "import pandas as pd\n",
    "from rdflib import Graph, Literal, RDF, Namespace, URIRef\n",
    "from rdflib.namespace import XSD\n",
    "from datetime import datetime"
   ]
  },
  {
   "cell_type": "code",
   "execution_count": 20,
   "id": "341fef92",
   "metadata": {},
   "outputs": [],
   "source": [
    "#df=pd.read_csv('ufo_report_br.csv')\n",
    "df = pd.read_csv('ufo_sightings.csv')\n",
    "df.dropna(inplace=True)\n",
    "df = df[0:50]"
   ]
  },
  {
   "cell_type": "code",
   "execution_count": 22,
   "id": "7437fa08",
   "metadata": {},
   "outputs": [],
   "source": [
    "def convert_date_to_iso(date_str):\n",
    "    try:\n",
    "        return datetime.strptime(date_str, \"%m/%d/%Y\").date().isoformat()\n",
    "    except ValueError:\n",
    "        return None\n",
    "\n",
    "def convert_time_to_iso(time_str):\n",
    "    try:\n",
    "        return datetime.strptime(time_str, \"%H:%M\").time().isoformat()\n",
    "    except ValueError:\n",
    "        return None"
   ]
  },
  {
   "cell_type": "code",
   "execution_count": 23,
   "id": "0610ac14",
   "metadata": {},
   "outputs": [],
   "source": [
    "P1 = Namespace(\"http://example.org/p1#\")\n",
    "EX = Namespace(\"http://example.org/\")\n",
    "\n",
    "g = Graph()\n",
    "\n",
    "g.bind(\"p1\", P1)\n",
    "g.bind(\"ex\", EX)"
   ]
  },
  {
   "cell_type": "code",
   "execution_count": 24,
   "id": "f468b300",
   "metadata": {},
   "outputs": [
    {
     "ename": "KeyError",
     "evalue": "'date_time'",
     "output_type": "error",
     "traceback": [
      "\u001b[0;31m---------------------------------------------------------------------------\u001b[0m",
      "\u001b[0;31mKeyError\u001b[0m                                  Traceback (most recent call last)",
      "File \u001b[0;32m~/.local/lib/python3.9/site-packages/pandas/core/indexes/base.py:3805\u001b[0m, in \u001b[0;36mIndex.get_loc\u001b[0;34m(self, key)\u001b[0m\n\u001b[1;32m   3804\u001b[0m \u001b[38;5;28;01mtry\u001b[39;00m:\n\u001b[0;32m-> 3805\u001b[0m     \u001b[38;5;28;01mreturn\u001b[39;00m \u001b[38;5;28;43mself\u001b[39;49m\u001b[38;5;241;43m.\u001b[39;49m\u001b[43m_engine\u001b[49m\u001b[38;5;241;43m.\u001b[39;49m\u001b[43mget_loc\u001b[49m\u001b[43m(\u001b[49m\u001b[43mcasted_key\u001b[49m\u001b[43m)\u001b[49m\n\u001b[1;32m   3806\u001b[0m \u001b[38;5;28;01mexcept\u001b[39;00m \u001b[38;5;167;01mKeyError\u001b[39;00m \u001b[38;5;28;01mas\u001b[39;00m err:\n",
      "File \u001b[0;32mindex.pyx:167\u001b[0m, in \u001b[0;36mpandas._libs.index.IndexEngine.get_loc\u001b[0;34m()\u001b[0m\n",
      "File \u001b[0;32mindex.pyx:196\u001b[0m, in \u001b[0;36mpandas._libs.index.IndexEngine.get_loc\u001b[0;34m()\u001b[0m\n",
      "File \u001b[0;32mpandas/_libs/hashtable_class_helper.pxi:7081\u001b[0m, in \u001b[0;36mpandas._libs.hashtable.PyObjectHashTable.get_item\u001b[0;34m()\u001b[0m\n",
      "File \u001b[0;32mpandas/_libs/hashtable_class_helper.pxi:7089\u001b[0m, in \u001b[0;36mpandas._libs.hashtable.PyObjectHashTable.get_item\u001b[0;34m()\u001b[0m\n",
      "\u001b[0;31mKeyError\u001b[0m: 'date_time'",
      "\nThe above exception was the direct cause of the following exception:\n",
      "\u001b[0;31mKeyError\u001b[0m                                  Traceback (most recent call last)",
      "Cell \u001b[0;32mIn[24], line 8\u001b[0m\n\u001b[1;32m      5\u001b[0m sighting_event \u001b[38;5;241m=\u001b[39m EX[\u001b[38;5;124mf\u001b[39m\u001b[38;5;124m\"\u001b[39m\u001b[38;5;124mSightingEvent\u001b[39m\u001b[38;5;132;01m{\u001b[39;00mindex\u001b[38;5;132;01m}\u001b[39;00m\u001b[38;5;124m\"\u001b[39m]\n\u001b[1;32m      6\u001b[0m witness \u001b[38;5;241m=\u001b[39m EX[\u001b[38;5;124mf\u001b[39m\u001b[38;5;124m\"\u001b[39m\u001b[38;5;124mWitness\u001b[39m\u001b[38;5;132;01m{\u001b[39;00mindex\u001b[38;5;132;01m}\u001b[39;00m\u001b[38;5;124m\"\u001b[39m]\n\u001b[0;32m----> 8\u001b[0m date_str, time_str \u001b[38;5;241m=\u001b[39m \u001b[43mrow\u001b[49m\u001b[43m[\u001b[49m\u001b[38;5;124;43m'\u001b[39;49m\u001b[38;5;124;43mdate_time\u001b[39;49m\u001b[38;5;124;43m'\u001b[39;49m\u001b[43m]\u001b[49m\u001b[38;5;241m.\u001b[39msplit()\n\u001b[1;32m      9\u001b[0m iso_date \u001b[38;5;241m=\u001b[39m convert_date_to_iso(date_str)\n\u001b[1;32m     10\u001b[0m iso_time \u001b[38;5;241m=\u001b[39m convert_time_to_iso(time_str)\n",
      "File \u001b[0;32m~/.local/lib/python3.9/site-packages/pandas/core/series.py:1121\u001b[0m, in \u001b[0;36mSeries.__getitem__\u001b[0;34m(self, key)\u001b[0m\n\u001b[1;32m   1118\u001b[0m     \u001b[38;5;28;01mreturn\u001b[39;00m \u001b[38;5;28mself\u001b[39m\u001b[38;5;241m.\u001b[39m_values[key]\n\u001b[1;32m   1120\u001b[0m \u001b[38;5;28;01melif\u001b[39;00m key_is_scalar:\n\u001b[0;32m-> 1121\u001b[0m     \u001b[38;5;28;01mreturn\u001b[39;00m \u001b[38;5;28;43mself\u001b[39;49m\u001b[38;5;241;43m.\u001b[39;49m\u001b[43m_get_value\u001b[49m\u001b[43m(\u001b[49m\u001b[43mkey\u001b[49m\u001b[43m)\u001b[49m\n\u001b[1;32m   1123\u001b[0m \u001b[38;5;66;03m# Convert generator to list before going through hashable part\u001b[39;00m\n\u001b[1;32m   1124\u001b[0m \u001b[38;5;66;03m# (We will iterate through the generator there to check for slices)\u001b[39;00m\n\u001b[1;32m   1125\u001b[0m \u001b[38;5;28;01mif\u001b[39;00m is_iterator(key):\n",
      "File \u001b[0;32m~/.local/lib/python3.9/site-packages/pandas/core/series.py:1237\u001b[0m, in \u001b[0;36mSeries._get_value\u001b[0;34m(self, label, takeable)\u001b[0m\n\u001b[1;32m   1234\u001b[0m     \u001b[38;5;28;01mreturn\u001b[39;00m \u001b[38;5;28mself\u001b[39m\u001b[38;5;241m.\u001b[39m_values[label]\n\u001b[1;32m   1236\u001b[0m \u001b[38;5;66;03m# Similar to Index.get_value, but we do not fall back to positional\u001b[39;00m\n\u001b[0;32m-> 1237\u001b[0m loc \u001b[38;5;241m=\u001b[39m \u001b[38;5;28;43mself\u001b[39;49m\u001b[38;5;241;43m.\u001b[39;49m\u001b[43mindex\u001b[49m\u001b[38;5;241;43m.\u001b[39;49m\u001b[43mget_loc\u001b[49m\u001b[43m(\u001b[49m\u001b[43mlabel\u001b[49m\u001b[43m)\u001b[49m\n\u001b[1;32m   1239\u001b[0m \u001b[38;5;28;01mif\u001b[39;00m is_integer(loc):\n\u001b[1;32m   1240\u001b[0m     \u001b[38;5;28;01mreturn\u001b[39;00m \u001b[38;5;28mself\u001b[39m\u001b[38;5;241m.\u001b[39m_values[loc]\n",
      "File \u001b[0;32m~/.local/lib/python3.9/site-packages/pandas/core/indexes/base.py:3812\u001b[0m, in \u001b[0;36mIndex.get_loc\u001b[0;34m(self, key)\u001b[0m\n\u001b[1;32m   3807\u001b[0m     \u001b[38;5;28;01mif\u001b[39;00m \u001b[38;5;28misinstance\u001b[39m(casted_key, \u001b[38;5;28mslice\u001b[39m) \u001b[38;5;129;01mor\u001b[39;00m (\n\u001b[1;32m   3808\u001b[0m         \u001b[38;5;28misinstance\u001b[39m(casted_key, abc\u001b[38;5;241m.\u001b[39mIterable)\n\u001b[1;32m   3809\u001b[0m         \u001b[38;5;129;01mand\u001b[39;00m \u001b[38;5;28many\u001b[39m(\u001b[38;5;28misinstance\u001b[39m(x, \u001b[38;5;28mslice\u001b[39m) \u001b[38;5;28;01mfor\u001b[39;00m x \u001b[38;5;129;01min\u001b[39;00m casted_key)\n\u001b[1;32m   3810\u001b[0m     ):\n\u001b[1;32m   3811\u001b[0m         \u001b[38;5;28;01mraise\u001b[39;00m InvalidIndexError(key)\n\u001b[0;32m-> 3812\u001b[0m     \u001b[38;5;28;01mraise\u001b[39;00m \u001b[38;5;167;01mKeyError\u001b[39;00m(key) \u001b[38;5;28;01mfrom\u001b[39;00m \u001b[38;5;21;01merr\u001b[39;00m\n\u001b[1;32m   3813\u001b[0m \u001b[38;5;28;01mexcept\u001b[39;00m \u001b[38;5;167;01mTypeError\u001b[39;00m:\n\u001b[1;32m   3814\u001b[0m     \u001b[38;5;66;03m# If we have a listlike key, _check_indexing_error will raise\u001b[39;00m\n\u001b[1;32m   3815\u001b[0m     \u001b[38;5;66;03m#  InvalidIndexError. Otherwise we fall through and re-raise\u001b[39;00m\n\u001b[1;32m   3816\u001b[0m     \u001b[38;5;66;03m#  the TypeError.\u001b[39;00m\n\u001b[1;32m   3817\u001b[0m     \u001b[38;5;28mself\u001b[39m\u001b[38;5;241m.\u001b[39m_check_indexing_error(key)\n",
      "\u001b[0;31mKeyError\u001b[0m: 'date_time'"
     ]
    }
   ],
   "source": [
    "unique_locations = {}\n",
    "unique_shapes = {}\n",
    "\n",
    "for index, row in df.iterrows():\n",
    "    sighting_event = EX[f\"SightingEvent{index}\"]\n",
    "    witness = EX[f\"Witness{index}\"]\n",
    "    \n",
    "    date_str, time_str = row['date_time'].split()\n",
    "    iso_date = convert_date_to_iso(date_str)\n",
    "    iso_time = convert_time_to_iso(time_str)\n",
    "\n",
    "    g.add((sighting_event, RDF.type, P1.SightingEvent))\n",
    "    if iso_date:\n",
    "        g.add((sighting_event, P1.date, Literal(iso_date, datatype=XSD.date)))\n",
    "    if iso_time:\n",
    "        g.add((sighting_event, P1.time, Literal(iso_time, datatype=XSD.time)))\n",
    "    if not pd.isna(row['encounter_length']):\n",
    "        g.add((sighting_event, P1.duration, Literal(f\"PT{int(row['encounter_length'])}S\", datatype=XSD.duration)))\n",
    "\n",
    "    location_key = (row['latitude'], row['longitude'])\n",
    "    if location_key not in unique_locations:\n",
    "        location = EX[f\"Location{len(unique_locations)}\"]\n",
    "        unique_locations[location_key] = location\n",
    "        g.add((location, RDF.type, P1.Location))\n",
    "        g.add((location, P1.latitude, Literal(row['latitude'], datatype=XSD.decimal)))\n",
    "        g.add((location, P1.longitude, Literal(row['longitude'], datatype=XSD.decimal)))\n",
    "    else:\n",
    "        location = unique_locations[location_key]\n",
    "    g.add((sighting_event, P1.location, location))\n",
    "    \n",
    "    shape_key = row['ufo_shape']\n",
    "    if shape_key not in unique_shapes:\n",
    "        shape = EX[f\"Shape{len(unique_shapes)}\"]\n",
    "        unique_shapes[shape_key] = shape\n",
    "        g.add((shape, RDF.type, P1.Shape))\n",
    "        g.add((shape, P1.name, Literal(row['ufo_shape'], datatype=XSD.string)))\n",
    "    else:\n",
    "        shape = unique_shapes[shape_key]\n",
    "    g.add((sighting_event, P1.shape, shape))\n",
    "    \n",
    "    if 'witness_name' in row and 'witness_age' in row:\n",
    "        g.add((sighting_event, P1.witnessOf, witness))\n",
    "        g.add((witness, RDF.type, P1.Witness))\n",
    "        g.add((witness, P1.name, Literal(row['witness_name'], datatype=XSD.string)))\n",
    "        g.add((witness, P1.age, Literal(row['witness_age'], datatype=XSD.integer)))\n",
    "        gender = P1.male if row.get('witness_gender', '').lower() == 'male' else P1.female\n",
    "        g.add((witness, P1.gender, gender))\n",
    "\n",
    "g.serialize(destination='ufo_sightings.rdf', format='turtle')"
   ]
  },
  {
   "cell_type": "code",
   "execution_count": 13,
   "id": "a8384934",
   "metadata": {},
   "outputs": [
    {
     "data": {
      "text/plain": [
       "'1978-10-10'"
      ]
     },
     "execution_count": 13,
     "metadata": {},
     "output_type": "execute_result"
    }
   ],
   "source": [
    "convert_date_to_iso('10/10/1978')"
   ]
  }
 ],
 "metadata": {
  "kernelspec": {
   "display_name": "Python 3 (ipykernel)",
   "language": "python",
   "name": "python3"
  },
  "language_info": {
   "codemirror_mode": {
    "name": "ipython",
    "version": 3
   },
   "file_extension": ".py",
   "mimetype": "text/x-python",
   "name": "python",
   "nbconvert_exporter": "python",
   "pygments_lexer": "ipython3",
   "version": "3.9.2"
  }
 },
 "nbformat": 4,
 "nbformat_minor": 5
}
