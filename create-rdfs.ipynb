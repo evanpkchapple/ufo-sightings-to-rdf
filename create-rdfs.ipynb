{
 "cells": [
  {
   "cell_type": "code",
   "execution_count": 1,
   "id": "c4fe3e5b",
   "metadata": {},
   "outputs": [],
   "source": [
    "import pandas as pd\n",
    "from rdflib import Graph, Literal, RDF, Namespace, URIRef\n",
    "from rdflib.namespace import XSD\n",
    "from datetime import datetime\n",
    "from geopy.geocoders import Nominatim"
   ]
  },
  {
   "cell_type": "code",
   "execution_count": 2,
   "id": "f1b2e666",
   "metadata": {},
   "outputs": [],
   "source": [
    "path_us = 'data/ufo_sightings_us.csv'\n",
    "path_br = 'data/ufo_sightings_br.csv'"
   ]
  },
  {
   "cell_type": "code",
   "execution_count": 27,
   "id": "818f82e9",
   "metadata": {},
   "outputs": [
    {
     "name": "stdout",
     "output_type": "stream",
     "text": [
      "{}\n",
      "0\n",
      "1\n",
      "2\n",
      "3\n",
      "4\n",
      "5\n",
      "6\n",
      "7\n",
      "8\n",
      "9\n",
      "10\n",
      "11\n",
      "12\n",
      "13\n",
      "14\n",
      "15\n",
      "16\n",
      "17\n",
      "18\n",
      "19\n",
      "20\n",
      "21\n",
      "22\n",
      "23\n",
      "24\n",
      "25\n",
      "26\n",
      "27\n",
      "28\n",
      "29\n",
      "30\n",
      "31\n",
      "32\n",
      "33\n",
      "34\n",
      "35\n",
      "36\n",
      "37\n",
      "38\n",
      "39\n",
      "40\n",
      "41\n",
      "42\n",
      "43\n",
      "44\n",
      "45\n",
      "46\n",
      "47\n",
      "48\n",
      "49\n",
      "{(29.8830556, -97.9411111): rdflib.term.URIRef('https://idmc.univ-lorraine.fr/sw/ex#Location0'), (28.9783333, -96.6458333): rdflib.term.URIRef('https://idmc.univ-lorraine.fr/sw/ex#Location1'), (21.4180556, -157.8036111): rdflib.term.URIRef('https://idmc.univ-lorraine.fr/sw/ex#Location2'), (36.595, -82.1888889): rdflib.term.URIRef('https://idmc.univ-lorraine.fr/sw/ex#Location3'), (41.1175, -73.4083333): rdflib.term.URIRef('https://idmc.univ-lorraine.fr/sw/ex#Location4'), (33.5861111, -86.2861111): rdflib.term.URIRef('https://idmc.univ-lorraine.fr/sw/ex#Location5'), (30.2947222, -82.9841667): rdflib.term.URIRef('https://idmc.univ-lorraine.fr/sw/ex#Location6'), (33.9163889, -118.3516667): rdflib.term.URIRef('https://idmc.univ-lorraine.fr/sw/ex#Location7'), (35.2333333, -82.7344444): rdflib.term.URIRef('https://idmc.univ-lorraine.fr/sw/ex#Location8'), (40.6686111, -73.5275): rdflib.term.URIRef('https://idmc.univ-lorraine.fr/sw/ex#Location9'), (37.1536111, -83.7619444): rdflib.term.URIRef('https://idmc.univ-lorraine.fr/sw/ex#Location10'), (35.8238889, -80.2536111): rdflib.term.URIRef('https://idmc.univ-lorraine.fr/sw/ex#Location11'), (36.8430556, -83.3219444): rdflib.term.URIRef('https://idmc.univ-lorraine.fr/sw/ex#Location12'), (42.5377778, -83.2330556): rdflib.term.URIRef('https://idmc.univ-lorraine.fr/sw/ex#Location13'), (41.3252778, -72.1936111): rdflib.term.URIRef('https://idmc.univ-lorraine.fr/sw/ex#Location14'), (42.3916667, -71.5666667): rdflib.term.URIRef('https://idmc.univ-lorraine.fr/sw/ex#Location15'), (38.1055556, -98.6597222): rdflib.term.URIRef('https://idmc.univ-lorraine.fr/sw/ex#Location16'), (32.8544444, -79.975): rdflib.term.URIRef('https://idmc.univ-lorraine.fr/sw/ex#Location17'), (45.5827778, -122.3522222): rdflib.term.URIRef('https://idmc.univ-lorraine.fr/sw/ex#Location18'), (29.4238889, -98.4933333): rdflib.term.URIRef('https://idmc.univ-lorraine.fr/sw/ex#Location19'), (38.2541667, -85.7594444): rdflib.term.URIRef('https://idmc.univ-lorraine.fr/sw/ex#Location20'), (40.7008333, -73.7133333): rdflib.term.URIRef('https://idmc.univ-lorraine.fr/sw/ex#Location21'), (41.7002778, -73.9213889): rdflib.term.URIRef('https://idmc.univ-lorraine.fr/sw/ex#Location22'), (32.7152778, -117.1563889): rdflib.term.URIRef('https://idmc.univ-lorraine.fr/sw/ex#Location23'), (38.7583333, -104.7425): rdflib.term.URIRef('https://idmc.univ-lorraine.fr/sw/ex#Location24'), (29.7630556, -95.3630556): rdflib.term.URIRef('https://idmc.univ-lorraine.fr/sw/ex#Location25'), (32.7833333, -96.8): rdflib.term.URIRef('https://idmc.univ-lorraine.fr/sw/ex#Location26'), (42.9955556, -71.4552778): rdflib.term.URIRef('https://idmc.univ-lorraine.fr/sw/ex#Location27'), (44.7630556, -85.6205556): rdflib.term.URIRef('https://idmc.univ-lorraine.fr/sw/ex#Location28'), (41.0338889, -73.7633333): rdflib.term.URIRef('https://idmc.univ-lorraine.fr/sw/ex#Location29'), (43.0388889, -87.9063889): rdflib.term.URIRef('https://idmc.univ-lorraine.fr/sw/ex#Location30'), (43.9627778, -70.2830556): rdflib.term.URIRef('https://idmc.univ-lorraine.fr/sw/ex#Location31'), (40.015, -105.27): rdflib.term.URIRef('https://idmc.univ-lorraine.fr/sw/ex#Location32'), (47.6063889, -122.3308333): rdflib.term.URIRef('https://idmc.univ-lorraine.fr/sw/ex#Location33'), (34.1577778, -118.6375): rdflib.term.URIRef('https://idmc.univ-lorraine.fr/sw/ex#Location34'), (46.7163889, -122.9530556): rdflib.term.URIRef('https://idmc.univ-lorraine.fr/sw/ex#Location35'), (31.7058333, -83.6533333): rdflib.term.URIRef('https://idmc.univ-lorraine.fr/sw/ex#Location36'), (35.235, -75.6288889): rdflib.term.URIRef('https://idmc.univ-lorraine.fr/sw/ex#Location37'), (40.2736111, -76.8847222): rdflib.term.URIRef('https://idmc.univ-lorraine.fr/sw/ex#Location38'), (30.1586111, -85.6602778): rdflib.term.URIRef('https://idmc.univ-lorraine.fr/sw/ex#Location39'), (29.6158333, -95.5575): rdflib.term.URIRef('https://idmc.univ-lorraine.fr/sw/ex#Location40'), (35.8905556, -83.7247222): rdflib.term.URIRef('https://idmc.univ-lorraine.fr/sw/ex#Location41'), (32.7591667, -97.7969444): rdflib.term.URIRef('https://idmc.univ-lorraine.fr/sw/ex#Location42'), (40.6936111, -89.5888889): rdflib.term.URIRef('https://idmc.univ-lorraine.fr/sw/ex#Location43'), (36.2522222, -85.9516667): rdflib.term.URIRef('https://idmc.univ-lorraine.fr/sw/ex#Location44'), (42.9097222, -73.8955556): rdflib.term.URIRef('https://idmc.univ-lorraine.fr/sw/ex#Location45'), (34.1027778, -91.9922222): rdflib.term.URIRef('https://idmc.univ-lorraine.fr/sw/ex#Location46'), (43.666667, -79.416667): rdflib.term.URIRef('https://idmc.univ-lorraine.fr/sw/ex#Location47'), (39.0725, -93.7169444): rdflib.term.URIRef('https://idmc.univ-lorraine.fr/sw/ex#Location48')}\n",
      "50\n"
     ]
    },
    {
     "name": "stderr",
     "output_type": "stream",
     "text": [
      "Failed to convert Literal lexical form to value. Datatype=http://www.w3.org/2001/XMLSchema#decimal, Converter=<class 'decimal.Decimal'>\n",
      "Traceback (most recent call last):\n",
      "  File \"/home/evanpkchapple/.local/lib/python3.9/site-packages/rdflib/term.py\", line 2119, in _castLexicalToPython\n",
      "    return conv_func(lexical)  # type: ignore[arg-type]\n",
      "decimal.InvalidOperation: [<class 'decimal.ConversionSyntax'>]\n"
     ]
    },
    {
     "name": "stdout",
     "output_type": "stream",
     "text": [
      "51\n"
     ]
    },
    {
     "name": "stderr",
     "output_type": "stream",
     "text": [
      "Failed to convert Literal lexical form to value. Datatype=http://www.w3.org/2001/XMLSchema#decimal, Converter=<class 'decimal.Decimal'>\n",
      "Traceback (most recent call last):\n",
      "  File \"/home/evanpkchapple/.local/lib/python3.9/site-packages/rdflib/term.py\", line 2119, in _castLexicalToPython\n",
      "    return conv_func(lexical)  # type: ignore[arg-type]\n",
      "decimal.InvalidOperation: [<class 'decimal.ConversionSyntax'>]\n"
     ]
    },
    {
     "name": "stdout",
     "output_type": "stream",
     "text": [
      "52\n"
     ]
    },
    {
     "name": "stderr",
     "output_type": "stream",
     "text": [
      "Failed to convert Literal lexical form to value. Datatype=http://www.w3.org/2001/XMLSchema#decimal, Converter=<class 'decimal.Decimal'>\n",
      "Traceback (most recent call last):\n",
      "  File \"/home/evanpkchapple/.local/lib/python3.9/site-packages/rdflib/term.py\", line 2119, in _castLexicalToPython\n",
      "    return conv_func(lexical)  # type: ignore[arg-type]\n",
      "decimal.InvalidOperation: [<class 'decimal.ConversionSyntax'>]\n"
     ]
    },
    {
     "name": "stdout",
     "output_type": "stream",
     "text": [
      "53\n"
     ]
    },
    {
     "name": "stderr",
     "output_type": "stream",
     "text": [
      "Failed to convert Literal lexical form to value. Datatype=http://www.w3.org/2001/XMLSchema#decimal, Converter=<class 'decimal.Decimal'>\n",
      "Traceback (most recent call last):\n",
      "  File \"/home/evanpkchapple/.local/lib/python3.9/site-packages/rdflib/term.py\", line 2119, in _castLexicalToPython\n",
      "    return conv_func(lexical)  # type: ignore[arg-type]\n",
      "decimal.InvalidOperation: [<class 'decimal.ConversionSyntax'>]\n"
     ]
    },
    {
     "name": "stdout",
     "output_type": "stream",
     "text": [
      "54\n"
     ]
    },
    {
     "name": "stderr",
     "output_type": "stream",
     "text": [
      "Failed to convert Literal lexical form to value. Datatype=http://www.w3.org/2001/XMLSchema#decimal, Converter=<class 'decimal.Decimal'>\n",
      "Traceback (most recent call last):\n",
      "  File \"/home/evanpkchapple/.local/lib/python3.9/site-packages/rdflib/term.py\", line 2119, in _castLexicalToPython\n",
      "    return conv_func(lexical)  # type: ignore[arg-type]\n",
      "decimal.InvalidOperation: [<class 'decimal.ConversionSyntax'>]\n"
     ]
    },
    {
     "name": "stdout",
     "output_type": "stream",
     "text": [
      "55\n"
     ]
    },
    {
     "name": "stderr",
     "output_type": "stream",
     "text": [
      "Failed to convert Literal lexical form to value. Datatype=http://www.w3.org/2001/XMLSchema#decimal, Converter=<class 'decimal.Decimal'>\n",
      "Traceback (most recent call last):\n",
      "  File \"/home/evanpkchapple/.local/lib/python3.9/site-packages/rdflib/term.py\", line 2119, in _castLexicalToPython\n",
      "    return conv_func(lexical)  # type: ignore[arg-type]\n",
      "decimal.InvalidOperation: [<class 'decimal.ConversionSyntax'>]\n"
     ]
    },
    {
     "name": "stdout",
     "output_type": "stream",
     "text": [
      "56\n",
      "57\n"
     ]
    },
    {
     "name": "stderr",
     "output_type": "stream",
     "text": [
      "Failed to convert Literal lexical form to value. Datatype=http://www.w3.org/2001/XMLSchema#decimal, Converter=<class 'decimal.Decimal'>\n",
      "Traceback (most recent call last):\n",
      "  File \"/home/evanpkchapple/.local/lib/python3.9/site-packages/rdflib/term.py\", line 2119, in _castLexicalToPython\n",
      "    return conv_func(lexical)  # type: ignore[arg-type]\n",
      "decimal.InvalidOperation: [<class 'decimal.ConversionSyntax'>]\n"
     ]
    },
    {
     "name": "stdout",
     "output_type": "stream",
     "text": [
      "58\n"
     ]
    },
    {
     "name": "stderr",
     "output_type": "stream",
     "text": [
      "Failed to convert Literal lexical form to value. Datatype=http://www.w3.org/2001/XMLSchema#decimal, Converter=<class 'decimal.Decimal'>\n",
      "Traceback (most recent call last):\n",
      "  File \"/home/evanpkchapple/.local/lib/python3.9/site-packages/rdflib/term.py\", line 2119, in _castLexicalToPython\n",
      "    return conv_func(lexical)  # type: ignore[arg-type]\n",
      "decimal.InvalidOperation: [<class 'decimal.ConversionSyntax'>]\n"
     ]
    },
    {
     "name": "stdout",
     "output_type": "stream",
     "text": [
      "59\n"
     ]
    },
    {
     "name": "stderr",
     "output_type": "stream",
     "text": [
      "Failed to convert Literal lexical form to value. Datatype=http://www.w3.org/2001/XMLSchema#decimal, Converter=<class 'decimal.Decimal'>\n",
      "Traceback (most recent call last):\n",
      "  File \"/home/evanpkchapple/.local/lib/python3.9/site-packages/rdflib/term.py\", line 2119, in _castLexicalToPython\n",
      "    return conv_func(lexical)  # type: ignore[arg-type]\n",
      "decimal.InvalidOperation: [<class 'decimal.ConversionSyntax'>]\n"
     ]
    },
    {
     "name": "stdout",
     "output_type": "stream",
     "text": [
      "60\n",
      "61\n",
      "62\n"
     ]
    },
    {
     "name": "stderr",
     "output_type": "stream",
     "text": [
      "Failed to convert Literal lexical form to value. Datatype=http://www.w3.org/2001/XMLSchema#decimal, Converter=<class 'decimal.Decimal'>\n",
      "Traceback (most recent call last):\n",
      "  File \"/home/evanpkchapple/.local/lib/python3.9/site-packages/rdflib/term.py\", line 2119, in _castLexicalToPython\n",
      "    return conv_func(lexical)  # type: ignore[arg-type]\n",
      "decimal.InvalidOperation: [<class 'decimal.ConversionSyntax'>]\n"
     ]
    },
    {
     "name": "stdout",
     "output_type": "stream",
     "text": [
      "63\n",
      "64\n"
     ]
    },
    {
     "name": "stderr",
     "output_type": "stream",
     "text": [
      "Failed to convert Literal lexical form to value. Datatype=http://www.w3.org/2001/XMLSchema#decimal, Converter=<class 'decimal.Decimal'>\n",
      "Traceback (most recent call last):\n",
      "  File \"/home/evanpkchapple/.local/lib/python3.9/site-packages/rdflib/term.py\", line 2119, in _castLexicalToPython\n",
      "    return conv_func(lexical)  # type: ignore[arg-type]\n",
      "decimal.InvalidOperation: [<class 'decimal.ConversionSyntax'>]\n"
     ]
    },
    {
     "name": "stdout",
     "output_type": "stream",
     "text": [
      "65\n"
     ]
    },
    {
     "name": "stderr",
     "output_type": "stream",
     "text": [
      "Failed to convert Literal lexical form to value. Datatype=http://www.w3.org/2001/XMLSchema#decimal, Converter=<class 'decimal.Decimal'>\n",
      "Traceback (most recent call last):\n",
      "  File \"/home/evanpkchapple/.local/lib/python3.9/site-packages/rdflib/term.py\", line 2119, in _castLexicalToPython\n",
      "    return conv_func(lexical)  # type: ignore[arg-type]\n",
      "decimal.InvalidOperation: [<class 'decimal.ConversionSyntax'>]\n"
     ]
    },
    {
     "name": "stdout",
     "output_type": "stream",
     "text": [
      "66\n"
     ]
    },
    {
     "name": "stderr",
     "output_type": "stream",
     "text": [
      "Failed to convert Literal lexical form to value. Datatype=http://www.w3.org/2001/XMLSchema#decimal, Converter=<class 'decimal.Decimal'>\n",
      "Traceback (most recent call last):\n",
      "  File \"/home/evanpkchapple/.local/lib/python3.9/site-packages/rdflib/term.py\", line 2119, in _castLexicalToPython\n",
      "    return conv_func(lexical)  # type: ignore[arg-type]\n",
      "decimal.InvalidOperation: [<class 'decimal.ConversionSyntax'>]\n"
     ]
    },
    {
     "name": "stdout",
     "output_type": "stream",
     "text": [
      "67\n"
     ]
    },
    {
     "name": "stderr",
     "output_type": "stream",
     "text": [
      "Failed to convert Literal lexical form to value. Datatype=http://www.w3.org/2001/XMLSchema#decimal, Converter=<class 'decimal.Decimal'>\n",
      "Traceback (most recent call last):\n",
      "  File \"/home/evanpkchapple/.local/lib/python3.9/site-packages/rdflib/term.py\", line 2119, in _castLexicalToPython\n",
      "    return conv_func(lexical)  # type: ignore[arg-type]\n",
      "decimal.InvalidOperation: [<class 'decimal.ConversionSyntax'>]\n"
     ]
    },
    {
     "name": "stdout",
     "output_type": "stream",
     "text": [
      "68\n"
     ]
    },
    {
     "name": "stderr",
     "output_type": "stream",
     "text": [
      "Failed to convert Literal lexical form to value. Datatype=http://www.w3.org/2001/XMLSchema#decimal, Converter=<class 'decimal.Decimal'>\n",
      "Traceback (most recent call last):\n",
      "  File \"/home/evanpkchapple/.local/lib/python3.9/site-packages/rdflib/term.py\", line 2119, in _castLexicalToPython\n",
      "    return conv_func(lexical)  # type: ignore[arg-type]\n",
      "decimal.InvalidOperation: [<class 'decimal.ConversionSyntax'>]\n"
     ]
    },
    {
     "name": "stdout",
     "output_type": "stream",
     "text": [
      "69\n"
     ]
    },
    {
     "name": "stderr",
     "output_type": "stream",
     "text": [
      "Failed to convert Literal lexical form to value. Datatype=http://www.w3.org/2001/XMLSchema#decimal, Converter=<class 'decimal.Decimal'>\n",
      "Traceback (most recent call last):\n",
      "  File \"/home/evanpkchapple/.local/lib/python3.9/site-packages/rdflib/term.py\", line 2119, in _castLexicalToPython\n",
      "    return conv_func(lexical)  # type: ignore[arg-type]\n",
      "decimal.InvalidOperation: [<class 'decimal.ConversionSyntax'>]\n"
     ]
    },
    {
     "name": "stdout",
     "output_type": "stream",
     "text": [
      "70\n"
     ]
    },
    {
     "name": "stderr",
     "output_type": "stream",
     "text": [
      "Failed to convert Literal lexical form to value. Datatype=http://www.w3.org/2001/XMLSchema#decimal, Converter=<class 'decimal.Decimal'>\n",
      "Traceback (most recent call last):\n",
      "  File \"/home/evanpkchapple/.local/lib/python3.9/site-packages/rdflib/term.py\", line 2119, in _castLexicalToPython\n",
      "    return conv_func(lexical)  # type: ignore[arg-type]\n",
      "decimal.InvalidOperation: [<class 'decimal.ConversionSyntax'>]\n"
     ]
    },
    {
     "name": "stdout",
     "output_type": "stream",
     "text": [
      "71\n"
     ]
    },
    {
     "name": "stderr",
     "output_type": "stream",
     "text": [
      "Failed to convert Literal lexical form to value. Datatype=http://www.w3.org/2001/XMLSchema#decimal, Converter=<class 'decimal.Decimal'>\n",
      "Traceback (most recent call last):\n",
      "  File \"/home/evanpkchapple/.local/lib/python3.9/site-packages/rdflib/term.py\", line 2119, in _castLexicalToPython\n",
      "    return conv_func(lexical)  # type: ignore[arg-type]\n",
      "decimal.InvalidOperation: [<class 'decimal.ConversionSyntax'>]\n"
     ]
    },
    {
     "name": "stdout",
     "output_type": "stream",
     "text": [
      "72\n"
     ]
    },
    {
     "name": "stderr",
     "output_type": "stream",
     "text": [
      "Failed to convert Literal lexical form to value. Datatype=http://www.w3.org/2001/XMLSchema#decimal, Converter=<class 'decimal.Decimal'>\n",
      "Traceback (most recent call last):\n",
      "  File \"/home/evanpkchapple/.local/lib/python3.9/site-packages/rdflib/term.py\", line 2119, in _castLexicalToPython\n",
      "    return conv_func(lexical)  # type: ignore[arg-type]\n",
      "decimal.InvalidOperation: [<class 'decimal.ConversionSyntax'>]\n"
     ]
    },
    {
     "name": "stdout",
     "output_type": "stream",
     "text": [
      "73\n"
     ]
    },
    {
     "name": "stderr",
     "output_type": "stream",
     "text": [
      "Failed to convert Literal lexical form to value. Datatype=http://www.w3.org/2001/XMLSchema#decimal, Converter=<class 'decimal.Decimal'>\n",
      "Traceback (most recent call last):\n",
      "  File \"/home/evanpkchapple/.local/lib/python3.9/site-packages/rdflib/term.py\", line 2119, in _castLexicalToPython\n",
      "    return conv_func(lexical)  # type: ignore[arg-type]\n",
      "decimal.InvalidOperation: [<class 'decimal.ConversionSyntax'>]\n"
     ]
    },
    {
     "name": "stdout",
     "output_type": "stream",
     "text": [
      "74\n"
     ]
    },
    {
     "name": "stderr",
     "output_type": "stream",
     "text": [
      "Failed to convert Literal lexical form to value. Datatype=http://www.w3.org/2001/XMLSchema#decimal, Converter=<class 'decimal.Decimal'>\n",
      "Traceback (most recent call last):\n",
      "  File \"/home/evanpkchapple/.local/lib/python3.9/site-packages/rdflib/term.py\", line 2119, in _castLexicalToPython\n",
      "    return conv_func(lexical)  # type: ignore[arg-type]\n",
      "decimal.InvalidOperation: [<class 'decimal.ConversionSyntax'>]\n"
     ]
    },
    {
     "name": "stdout",
     "output_type": "stream",
     "text": [
      "75\n",
      "76\n",
      "77\n",
      "78\n",
      "79\n",
      "80\n",
      "81\n",
      "82\n",
      "83\n",
      "84\n",
      "85\n",
      "86\n",
      "87\n",
      "88\n",
      "89\n",
      "90\n",
      "91\n",
      "92\n",
      "93\n"
     ]
    },
    {
     "name": "stderr",
     "output_type": "stream",
     "text": [
      "Failed to convert Literal lexical form to value. Datatype=http://www.w3.org/2001/XMLSchema#decimal, Converter=<class 'decimal.Decimal'>\n",
      "Traceback (most recent call last):\n",
      "  File \"/home/evanpkchapple/.local/lib/python3.9/site-packages/rdflib/term.py\", line 2119, in _castLexicalToPython\n",
      "    return conv_func(lexical)  # type: ignore[arg-type]\n",
      "decimal.InvalidOperation: [<class 'decimal.ConversionSyntax'>]\n"
     ]
    },
    {
     "name": "stdout",
     "output_type": "stream",
     "text": [
      "94\n"
     ]
    },
    {
     "name": "stderr",
     "output_type": "stream",
     "text": [
      "Failed to convert Literal lexical form to value. Datatype=http://www.w3.org/2001/XMLSchema#decimal, Converter=<class 'decimal.Decimal'>\n",
      "Traceback (most recent call last):\n",
      "  File \"/home/evanpkchapple/.local/lib/python3.9/site-packages/rdflib/term.py\", line 2119, in _castLexicalToPython\n",
      "    return conv_func(lexical)  # type: ignore[arg-type]\n",
      "decimal.InvalidOperation: [<class 'decimal.ConversionSyntax'>]\n"
     ]
    },
    {
     "name": "stdout",
     "output_type": "stream",
     "text": [
      "95\n"
     ]
    },
    {
     "name": "stderr",
     "output_type": "stream",
     "text": [
      "Failed to convert Literal lexical form to value. Datatype=http://www.w3.org/2001/XMLSchema#decimal, Converter=<class 'decimal.Decimal'>\n",
      "Traceback (most recent call last):\n",
      "  File \"/home/evanpkchapple/.local/lib/python3.9/site-packages/rdflib/term.py\", line 2119, in _castLexicalToPython\n",
      "    return conv_func(lexical)  # type: ignore[arg-type]\n",
      "decimal.InvalidOperation: [<class 'decimal.ConversionSyntax'>]\n"
     ]
    },
    {
     "name": "stdout",
     "output_type": "stream",
     "text": [
      "96\n"
     ]
    },
    {
     "name": "stderr",
     "output_type": "stream",
     "text": [
      "Failed to convert Literal lexical form to value. Datatype=http://www.w3.org/2001/XMLSchema#decimal, Converter=<class 'decimal.Decimal'>\n",
      "Traceback (most recent call last):\n",
      "  File \"/home/evanpkchapple/.local/lib/python3.9/site-packages/rdflib/term.py\", line 2119, in _castLexicalToPython\n",
      "    return conv_func(lexical)  # type: ignore[arg-type]\n",
      "decimal.InvalidOperation: [<class 'decimal.ConversionSyntax'>]\n"
     ]
    },
    {
     "name": "stdout",
     "output_type": "stream",
     "text": [
      "97\n"
     ]
    },
    {
     "name": "stderr",
     "output_type": "stream",
     "text": [
      "Failed to convert Literal lexical form to value. Datatype=http://www.w3.org/2001/XMLSchema#decimal, Converter=<class 'decimal.Decimal'>\n",
      "Traceback (most recent call last):\n",
      "  File \"/home/evanpkchapple/.local/lib/python3.9/site-packages/rdflib/term.py\", line 2119, in _castLexicalToPython\n",
      "    return conv_func(lexical)  # type: ignore[arg-type]\n",
      "decimal.InvalidOperation: [<class 'decimal.ConversionSyntax'>]\n"
     ]
    },
    {
     "name": "stdout",
     "output_type": "stream",
     "text": [
      "98\n"
     ]
    },
    {
     "name": "stderr",
     "output_type": "stream",
     "text": [
      "Failed to convert Literal lexical form to value. Datatype=http://www.w3.org/2001/XMLSchema#decimal, Converter=<class 'decimal.Decimal'>\n",
      "Traceback (most recent call last):\n",
      "  File \"/home/evanpkchapple/.local/lib/python3.9/site-packages/rdflib/term.py\", line 2119, in _castLexicalToPython\n",
      "    return conv_func(lexical)  # type: ignore[arg-type]\n",
      "decimal.InvalidOperation: [<class 'decimal.ConversionSyntax'>]\n"
     ]
    },
    {
     "name": "stdout",
     "output_type": "stream",
     "text": [
      "99\n"
     ]
    },
    {
     "name": "stderr",
     "output_type": "stream",
     "text": [
      "Failed to convert Literal lexical form to value. Datatype=http://www.w3.org/2001/XMLSchema#decimal, Converter=<class 'decimal.Decimal'>\n",
      "Traceback (most recent call last):\n",
      "  File \"/home/evanpkchapple/.local/lib/python3.9/site-packages/rdflib/term.py\", line 2119, in _castLexicalToPython\n",
      "    return conv_func(lexical)  # type: ignore[arg-type]\n",
      "decimal.InvalidOperation: [<class 'decimal.ConversionSyntax'>]\n",
      "/home/evanpkchapple/.local/lib/python3.9/site-packages/rdflib/term.py:1585: UserWarning: Serializing weird numerical rdflib.term.Literal('t', datatype=rdflib.term.URIRef('http://www.w3.org/2001/XMLSchema#decimal'))\n",
      "  warnings.warn(\"Serializing weird numerical %r\" % self)\n"
     ]
    }
   ],
   "source": [
    "get_rdfs(path_us, path_br)"
   ]
  },
  {
   "cell_type": "code",
   "execution_count": 26,
   "id": "4f978906",
   "metadata": {},
   "outputs": [],
   "source": [
    "def get_rdfs(path_us, path_br):\n",
    "    \n",
    "    unique_locations = {}\n",
    "    unique_shapes = {}\n",
    "    num_seen = []\n",
    "    \n",
    "    u = process_rdf_us(path_us, unique_locations, unique_shapes, num_seen)\n",
    "    b = process_rdf_br(path_br, unique_locations, unique_shapes, num_seen)\n",
    "    \n",
    "    u.serialize(destination='ufo_sightings_us.rdf', format='turtle')\n",
    "    b.serialize(destination='ufo_sightings_br.rdf', format='turtle')\n",
    "\n",
    "    g = u + b\n",
    "    \n",
    "    g.serialize(destination='ufo_sightings.rdf', format='turtle')"
   ]
  },
  {
   "cell_type": "code",
   "execution_count": 24,
   "id": "cab7b4d1",
   "metadata": {},
   "outputs": [],
   "source": [
    "def process_rdf_us(path, unique_locations, unique_shapes, num_seen):\n",
    "\n",
    "    print(unique_locations)\n",
    "    \n",
    "    df = pd.read_csv(path)\n",
    "    df.dropna(inplace=True)\n",
    "    df = df[0:50]\n",
    "    \n",
    "    g = Graph()\n",
    "    \n",
    "    P1 = Namespace(\"https://idmc.univ-lorraine.fr/sw/p1#\")\n",
    "    EX = Namespace(\"https://idmc.univ-lorraine.fr/sw/ex#\")\n",
    "    \n",
    "    g.bind(\"p1\", P1)\n",
    "    g.bind(\"ex\", EX)\n",
    "\n",
    "    for index, row in df.iterrows():\n",
    "        print(len(num_seen))\n",
    "        sighting_event = EX[f\"SightingEvent{len(num_seen)}\"]\n",
    "        num_seen.append([])\n",
    "\n",
    "        date_str, time_str = row['date_time'].split()\n",
    "        iso_date = convert_date_to_iso(date_str)\n",
    "        iso_time = convert_time_to_iso(time_str)\n",
    "\n",
    "        g.add((sighting_event, RDF.type, P1.SightingEvent))\n",
    "        if iso_date:\n",
    "            g.add((sighting_event, P1.date, Literal(iso_date, datatype=XSD.date)))\n",
    "        if iso_time:\n",
    "            g.add((sighting_event, P1.time, Literal(iso_time, datatype=XSD.time)))\n",
    "        if not pd.isna(row['encounter_length']):\n",
    "            g.add((sighting_event, P1.duration, Literal(f\"PT{int(row['encounter_length'])}S\", datatype=XSD.duration)))\n",
    "\n",
    "        location_key = (row['latitude'], row['longitude'])\n",
    "        if location_key not in unique_locations:\n",
    "            location = EX[f\"Location{len(unique_locations)}\"]\n",
    "            unique_locations[location_key] = location\n",
    "            g.add((location, RDF.type, P1.Location))\n",
    "            g.add((location, P1.latitude, Literal(row['latitude'], datatype=XSD.decimal)))\n",
    "            g.add((location, P1.longitude, Literal(row['longitude'], datatype=XSD.decimal)))\n",
    "        else:\n",
    "            location = unique_locations[location_key]\n",
    "        g.add((sighting_event, P1.location, location))\n",
    "\n",
    "        shape_key = row['ufo_shape']\n",
    "        if shape_key not in unique_shapes:\n",
    "            shape = EX[f\"Shape{len(unique_shapes)}\"]\n",
    "            unique_shapes[shape_key] = shape\n",
    "            g.add((shape, RDF.type, P1.Shape))\n",
    "            g.add((shape, P1.name, Literal(row['ufo_shape'], datatype=XSD.string)))\n",
    "        else:\n",
    "            shape = unique_shapes[shape_key]\n",
    "        g.add((sighting_event, P1.shape, shape))\n",
    "        \n",
    "        g.add((sighting_event, P1.description, Literal(row['description'], datatype=XSD.string)))\n",
    "\n",
    "    return g"
   ]
  },
  {
   "cell_type": "code",
   "execution_count": 23,
   "id": "0ed456f0",
   "metadata": {},
   "outputs": [],
   "source": [
    "def process_rdf_br(path, unique_locations, unique_shapes, num_seen):\n",
    "\n",
    "    print(unique_locations)\n",
    "    \n",
    "    df = pd.read_csv(path)\n",
    "    df.dropna(inplace=True)\n",
    "    df = df[0:50]\n",
    "    \n",
    "    g = Graph()\n",
    "    \n",
    "    P1 = Namespace(\"https://idmc.univ-lorraine.fr/sw/p1#\")\n",
    "    EX = Namespace(\"https://idmc.univ-lorraine.fr/sw/ex#\")\n",
    "    \n",
    "    g.bind(\"p1\", P1)\n",
    "    g.bind(\"ex\", EX)\n",
    "\n",
    "    for index, row in df.iterrows():\n",
    "        print(len(num_seen))\n",
    "        sighting_event = EX[f\"SightingEvent{len(num_seen)}\"]\n",
    "        num_seen.append([])\n",
    "\n",
    "        date_str = row['Date']\n",
    "        time_str = row['Time']\n",
    "        iso_date = convert_date_to_iso(date_str)\n",
    "        iso_time = convert_time_to_iso(time_str)\n",
    "\n",
    "        g.add((sighting_event, RDF.type, P1.SightingEvent))\n",
    "        if iso_date:\n",
    "            g.add((sighting_event, P1.date, Literal(iso_date, datatype=XSD.date)))\n",
    "        if iso_time:\n",
    "            g.add((sighting_event, P1.time, Literal(iso_time, datatype=XSD.time)))\n",
    "        \n",
    "        town = row['Town/Village']\n",
    "\n",
    "        geolocator = Nominatim(user_agent=\"Mozilla/5.0\")\n",
    "        location = geolocator.geocode(town + ', England')\n",
    "\n",
    "        if location:\n",
    "            location_key = (location.latitude, location.longitude)\n",
    "        else:\n",
    "            location_key = None\n",
    "\n",
    "        if location_key not in unique_locations and location_key:\n",
    "            location = EX[f\"Location{len(unique_locations)}\"]\n",
    "            unique_locations[location_key] = location\n",
    "            g.add((location, RDF.type, P1.Location))\n",
    "            g.add((location, P1.latitude, Literal(location_key[0], datatype=XSD.decimal)))\n",
    "            g.add((location, P1.longitude, Literal(location[1], datatype=XSD.decimal)))\n",
    "            g.add((sighting_event, P1.location, location))\n",
    "        elif location_key in unique_locations and location_key:\n",
    "            location = unique_locations[location_key]\n",
    "            g.add((sighting_event, P1.location, location))\n",
    "        \n",
    "        g.add((sighting_event, P1.description, Literal(row['Description'], datatype=XSD.string)))\n",
    "\n",
    "    return g"
   ]
  },
  {
   "cell_type": "code",
   "execution_count": 6,
   "id": "1a56feec",
   "metadata": {},
   "outputs": [],
   "source": [
    "def convert_date_to_iso(date_str):\n",
    "    date_formats = [\"%m/%d/%Y\", \"%d-%b-%y\"]\n",
    "    for date_format in date_formats:\n",
    "        try:\n",
    "            return datetime.strptime(date_str, date_format).date().isoformat()\n",
    "        except ValueError:\n",
    "            continue\n",
    "    return None\n",
    "\n",
    "def convert_time_to_iso(time_str):\n",
    "    try:\n",
    "        return datetime.strptime(time_str, \"%H:%M\").time().isoformat()\n",
    "    except ValueError:\n",
    "        return None"
   ]
  }
 ],
 "metadata": {
  "kernelspec": {
   "display_name": "Python 3 (ipykernel)",
   "language": "python",
   "name": "python3"
  },
  "language_info": {
   "codemirror_mode": {
    "name": "ipython",
    "version": 3
   },
   "file_extension": ".py",
   "mimetype": "text/x-python",
   "name": "python",
   "nbconvert_exporter": "python",
   "pygments_lexer": "ipython3",
   "version": "3.9.2"
  }
 },
 "nbformat": 4,
 "nbformat_minor": 5
}
